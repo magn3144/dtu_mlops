{
 "cells": [
  {
   "cell_type": "code",
   "execution_count": null,
   "metadata": {},
   "outputs": [],
   "source": [
    "import pstats\n",
    "\n",
    "# Specify the path to your .prof file\n",
    "prof_file = 'profile_stats.prof'\n",
    "\n",
    "# Create a pstats.Stats object using the .prof file\n",
    "stats = pstats.Stats(prof_file)\n",
    "\n",
    "# # Print statistics\n",
    "# stats.print_stats()\n",
    "\n",
    "# You can also sort the statistics by a specific column\n",
    "# For example, sorting by cumulative time\n",
    "stats = stats.sort_stats('cumulative')\n",
    "stats.print_stats()\n"
   ]
  },
  {
   "cell_type": "code",
   "execution_count": 22,
   "metadata": {},
   "outputs": [
    {
     "name": "stdout",
     "output_type": "stream",
     "text": [
      "---------------------------------  ------------  ------------  ------------  ------------  ------------  ------------  ------------  ------------  --------------------------------------------------------------------------------  \n",
      "                             Name    Self CPU %      Self CPU   CPU total %     CPU total  CPU time avg       CPU Mem  Self CPU Mem    # of Calls                                                                      Input Shapes  \n",
      "---------------------------------  ------------  ------------  ------------  ------------  ------------  ------------  ------------  ------------  --------------------------------------------------------------------------------  \n",
      "                     aten::conv2d         0.02%     603.000us        20.59%     632.640ms       5.751ms     105.27 Mb           0 b           110                          [[5, 256, 14, 14], [256, 256, 3, 3], [], [], [], [], []]  \n",
      "                aten::convolution         0.10%       2.941ms        20.57%     632.037ms       5.746ms     105.27 Mb           0 b           110                  [[5, 256, 14, 14], [256, 256, 3, 3], [], [], [], [], [], [], []]  \n",
      "               aten::_convolution         0.04%       1.363ms        20.47%     629.096ms       5.719ms     105.27 Mb           0 b           110  [[5, 256, 14, 14], [256, 256, 3, 3], [], [], [], [], [], [], [], [], [], [], []]  \n",
      "         aten::mkldnn_convolution        20.38%     626.195ms        20.43%     627.733ms       5.707ms     105.27 Mb           0 b           110                          [[5, 256, 14, 14], [256, 256, 3, 3], [], [], [], [], []]  \n",
      "                     aten::conv2d         0.01%     259.000us        14.70%     451.726ms       9.035ms      23.93 Mb           0 b            50                            [[5, 512, 7, 7], [512, 512, 3, 3], [], [], [], [], []]  \n",
      "                aten::convolution         0.03%     877.000us        14.69%     451.467ms       9.029ms      23.93 Mb           0 b            50                    [[5, 512, 7, 7], [512, 512, 3, 3], [], [], [], [], [], [], []]  \n",
      "               aten::_convolution         0.02%     582.000us        14.66%     450.590ms       9.012ms      23.93 Mb           0 b            50    [[5, 512, 7, 7], [512, 512, 3, 3], [], [], [], [], [], [], [], [], [], [], []]  \n",
      "         aten::mkldnn_convolution        14.62%     449.257ms        14.65%     450.008ms       9.000ms      23.93 Mb           0 b            50                            [[5, 512, 7, 7], [512, 512, 3, 3], [], [], [], [], []]  \n",
      "                     aten::conv2d         0.01%     424.000us        13.90%     427.132ms       7.119ms     229.69 Mb           0 b            60                             [[5, 64, 56, 56], [64, 64, 3, 3], [], [], [], [], []]  \n",
      "                aten::convolution         0.05%       1.469ms        13.89%     426.708ms       7.112ms     229.69 Mb           0 b            60                     [[5, 64, 56, 56], [64, 64, 3, 3], [], [], [], [], [], [], []]  \n",
      "               aten::_convolution         0.03%     894.000us        13.84%     425.239ms       7.087ms     229.69 Mb           0 b            60     [[5, 64, 56, 56], [64, 64, 3, 3], [], [], [], [], [], [], [], [], [], [], []]  \n",
      "         aten::mkldnn_convolution        13.77%     423.155ms        13.81%     424.345ms       7.072ms     229.69 Mb           0 b            60                             [[5, 64, 56, 56], [64, 64, 3, 3], [], [], [], [], []]  \n",
      "                     aten::conv2d         0.01%     432.000us        13.39%     411.477ms       5.878ms     133.98 Mb           0 b            70                          [[5, 128, 28, 28], [128, 128, 3, 3], [], [], [], [], []]  \n",
      "                aten::convolution         0.05%       1.660ms        13.38%     411.045ms       5.872ms     133.98 Mb           0 b            70                  [[5, 128, 28, 28], [128, 128, 3, 3], [], [], [], [], [], [], []]  \n",
      "               aten::_convolution         0.03%       1.035ms        13.32%     409.385ms       5.848ms     133.98 Mb           0 b            70  [[5, 128, 28, 28], [128, 128, 3, 3], [], [], [], [], [], [], [], [], [], [], []]  \n",
      "         aten::mkldnn_convolution        13.23%     406.634ms        13.29%     408.350ms       5.834ms     133.98 Mb           0 b            70                          [[5, 128, 28, 28], [128, 128, 3, 3], [], [], [], [], []]  \n",
      "                 aten::max_pool2d         0.00%      85.000us        10.68%     328.124ms      32.812ms     114.84 Mb           0 b            10                                           [[5, 64, 112, 112], [], [], [], [], []]  \n",
      "    aten::max_pool2d_with_indices        10.68%     328.039ms        10.68%     328.039ms      32.804ms     114.84 Mb     114.84 Mb            10                                           [[5, 64, 112, 112], [], [], [], [], []]  \n",
      "                 aten::batch_norm         0.01%     299.000us         4.05%     124.565ms       2.076ms     229.72 Mb           0 b            60                         [[5, 64, 56, 56], [64], [64], [64], [64], [], [], [], []]  \n",
      "     aten::_batch_norm_impl_index         0.03%     786.000us         4.04%     124.266ms       2.071ms     229.72 Mb           0 b            60                         [[5, 64, 56, 56], [64], [64], [64], [64], [], [], [], []]  \n",
      "          aten::native_batch_norm         3.98%     122.414ms         4.01%     123.326ms       2.055ms     229.72 Mb     -43.25 Kb            60                             [[5, 64, 56, 56], [64], [64], [64], [64], [], [], []]  \n",
      "                     aten::conv2d         0.00%      64.000us         2.93%      90.139ms       9.014ms     153.12 Mb           0 b            10                             [[5, 3, 224, 224], [64, 3, 7, 7], [], [], [], [], []]  \n",
      "                aten::convolution         0.01%     258.000us         2.93%      90.075ms       9.008ms     153.12 Mb           0 b            10                     [[5, 3, 224, 224], [64, 3, 7, 7], [], [], [], [], [], [], []]  \n",
      "               aten::_convolution         0.00%     150.000us         2.92%      89.817ms       8.982ms     153.12 Mb           0 b            10     [[5, 3, 224, 224], [64, 3, 7, 7], [], [], [], [], [], [], [], [], [], [], []]  \n",
      "         aten::mkldnn_convolution         2.91%      89.457ms         2.92%      89.667ms       8.967ms     153.12 Mb           0 b            10                             [[5, 3, 224, 224], [64, 3, 7, 7], [], [], [], [], []]  \n",
      "                 aten::batch_norm         0.01%     380.000us         2.91%      89.285ms     992.056us     172.35 Mb           0 b            90                    [[5, 128, 28, 28], [128], [128], [128], [128], [], [], [], []]  \n",
      "     aten::_batch_norm_impl_index         0.03%     997.000us         2.89%      88.905ms     987.833us     172.35 Mb           0 b            90                    [[5, 128, 28, 28], [128], [128], [128], [128], [], [], [], []]  \n",
      "          aten::native_batch_norm         2.82%      86.565ms         2.86%      87.755ms     975.056us     172.35 Mb    -122.00 Kb            90                        [[5, 128, 28, 28], [128], [128], [128], [128], [], [], []]  \n",
      "                 aten::batch_norm         0.00%      49.000us         2.61%      80.328ms       8.033ms     153.13 Mb           0 b            10                       [[5, 64, 112, 112], [64], [64], [64], [64], [], [], [], []]  \n",
      "     aten::_batch_norm_impl_index         0.00%     123.000us         2.61%      80.279ms       8.028ms     153.13 Mb           0 b            10                       [[5, 64, 112, 112], [64], [64], [64], [64], [], [], [], []]  \n",
      "---------------------------------  ------------  ------------  ------------  ------------  ------------  ------------  ------------  ------------  --------------------------------------------------------------------------------  \n",
      "Self CPU time total: 3.073s\n",
      "\n"
     ]
    }
   ],
   "source": [
    "import torch\n",
    "import torchvision.models as models\n",
    "from torch.profiler import profile, ProfilerActivity, tensorboard_trace_handler\n",
    "\n",
    "model = models.resnet34()\n",
    "inputs = torch.randn(5, 3, 224, 224)\n",
    "\n",
    "# with profile(activities=[ProfilerActivity.CPU], record_shapes=True) as prof:\n",
    "#     model(inputs)\n",
    "\n",
    "with profile(activities=[ProfilerActivity.CPU], on_trace_ready=tensorboard_trace_handler(\"./log/resnet34\"), record_shapes=True, profile_memory=True) as prof:\n",
    "    for i in range(10):\n",
    "        model(inputs)\n",
    "        prof.step()\n",
    "\n",
    "#print(prof.key_averages().table(sort_by=\"cpu_time_total\", row_limit=10))\n",
    "print(prof.key_averages(group_by_input_shape=True).table(sort_by=\"cpu_time_total\", row_limit=30))\n",
    "# prof.export_chrome_trace(\"trace.json\")"
   ]
  }
 ],
 "metadata": {
  "kernelspec": {
   "display_name": "MLOps",
   "language": "python",
   "name": "python3"
  },
  "language_info": {
   "codemirror_mode": {
    "name": "ipython",
    "version": 3
   },
   "file_extension": ".py",
   "mimetype": "text/x-python",
   "name": "python",
   "nbconvert_exporter": "python",
   "pygments_lexer": "ipython3",
   "version": "3.11.5"
  }
 },
 "nbformat": 4,
 "nbformat_minor": 2
}
