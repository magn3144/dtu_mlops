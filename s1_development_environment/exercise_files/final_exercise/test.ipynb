{
 "cells": [
  {
   "cell_type": "code",
   "execution_count": null,
   "metadata": {},
   "outputs": [],
   "source": [
    "import torch\n",
    "import matplotlib.pyplot as plt"
   ]
  },
  {
   "cell_type": "code",
   "execution_count": null,
   "metadata": {},
   "outputs": [],
   "source": [
    "# Load .pt files\n",
    "test_path = \"c:\\\\Users\\\\magnu\\\\Documents\\\\GitHub Projects\\\\dtu_mlops\\\\data\\\\corruptmnist\\\\test_images.pt\"\n",
    "test_images = torch.load(test_path)\n",
    "\n",
    "train_path = \"c:\\\\Users\\\\magnu\\\\Documents\\\\GitHub Projects\\\\dtu_mlops\\\\data\\\\corruptmnist\\\\train_images_0.pt\"\n",
    "train_images = torch.load(train_path)"
   ]
  },
  {
   "cell_type": "code",
   "execution_count": 24,
   "metadata": {},
   "outputs": [
    {
     "name": "stdout",
     "output_type": "stream",
     "text": [
      "Test dataset shape: torch.Size([5000, 28, 28])\n",
      "Train dataset shape: torch.Size([5000, 28, 28])\n"
     ]
    }
   ],
   "source": [
    "# Dataset shape\n",
    "print(\"Test dataset shape:\", test_images.shape)\n",
    "print(\"Train dataset shape:\", train_images.shape)"
   ]
  },
  {
   "cell_type": "code",
   "execution_count": null,
   "metadata": {},
   "outputs": [],
   "source": [
    "# Display the first image\n",
    "plt.imshow(train_images[5], cmap='gray')\n",
    "plt.show()"
   ]
  },
  {
   "cell_type": "code",
   "execution_count": 26,
   "metadata": {},
   "outputs": [],
   "source": [
    "train_images = []\n",
    "for i in range(6):\n",
    "    train_path = f\"c:\\\\Users\\\\magnu\\\\Documents\\\\GitHub Projects\\\\dtu_mlops\\\\data\\\\corruptmnist\\\\train_images_{i}.pt\"\n",
    "    train_file = torch.load(train_path)\n",
    "    train_images.append(train_file)\n",
    "train_images = torch.cat(train_images, dim=0)\n",
    "trainloader = torch.utils.data.DataLoader(train_images, batch_size=64, shuffle=True)\n",
    "\n",
    "test_path = f\"c:\\\\Users\\\\magnu\\\\Documents\\\\GitHub Projects\\\\dtu_mlops\\\\data\\\\corruptmnist\\\\test_images.pt\"\n",
    "test_file = torch.load(test_path)\n",
    "testloader = torch.utils.data.DataLoader(test_file, batch_size=64, shuffle=True)"
   ]
  }
 ],
 "metadata": {
  "kernelspec": {
   "display_name": "MLOps",
   "language": "python",
   "name": "python3"
  },
  "language_info": {
   "codemirror_mode": {
    "name": "ipython",
    "version": 3
   },
   "file_extension": ".py",
   "mimetype": "text/x-python",
   "name": "python",
   "nbconvert_exporter": "python",
   "pygments_lexer": "ipython3",
   "version": "3.11.5"
  }
 },
 "nbformat": 4,
 "nbformat_minor": 2
}
